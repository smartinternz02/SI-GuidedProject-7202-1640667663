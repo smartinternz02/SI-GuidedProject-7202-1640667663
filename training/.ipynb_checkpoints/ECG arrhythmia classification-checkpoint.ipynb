{
 "cells": [
  {
   "cell_type": "markdown",
   "id": "kOll_fno3Yat",
   "metadata": {
    "id": "kOll_fno3Yat"
   },
   "source": [
    "# Image Preprocessing"
   ]
  },
  {
   "cell_type": "markdown",
   "id": "tW59gsm_2EJa",
   "metadata": {
    "id": "tW59gsm_2EJa"
   },
   "source": [
    "Importing Image Data Generator Library"
   ]
  },
  {
   "cell_type": "code",
   "execution_count": 1,
   "id": "44517383",
   "metadata": {},
   "outputs": [
    {
     "name": "stdout",
     "output_type": "stream",
     "text": [
      "Collecting keras\n",
      "  Downloading keras-2.7.0-py2.py3-none-any.whl (1.3 MB)\n",
      "Installing collected packages: keras\n",
      "Successfully installed keras-2.7.0\n"
     ]
    }
   ],
   "source": [
    "!pip install keras"
   ]
  },
  {
   "cell_type": "code",
   "execution_count": 2,
   "id": "239e709f",
   "metadata": {},
   "outputs": [
    {
     "name": "stdout",
     "output_type": "stream",
     "text": [
      "Requirement already satisfied: numpy in c:\\users\\jenish khunt\\anaconda3\\lib\\site-packages (1.20.3)\n"
     ]
    }
   ],
   "source": [
    "!pip install numpy"
   ]
  },
  {
   "cell_type": "code",
   "execution_count": 6,
   "id": "02885ab5",
   "metadata": {},
   "outputs": [
    {
     "name": "stdout",
     "output_type": "stream",
     "text": [
      "Requirement already satisfied: tensorflow in c:\\users\\jenish khunt\\anaconda3\\lib\\site-packages (2.7.0)\n",
      "Requirement already satisfied: gast<0.5.0,>=0.2.1 in c:\\users\\jenish khunt\\anaconda3\\lib\\site-packages (from tensorflow) (0.4.0)\n",
      "Requirement already satisfied: opt-einsum>=2.3.2 in c:\\users\\jenish khunt\\anaconda3\\lib\\site-packages (from tensorflow) (3.3.0)\n",
      "Requirement already satisfied: libclang>=9.0.1 in c:\\users\\jenish khunt\\anaconda3\\lib\\site-packages (from tensorflow) (12.0.0)\n",
      "Requirement already satisfied: tensorflow-estimator<2.8,~=2.7.0rc0 in c:\\users\\jenish khunt\\anaconda3\\lib\\site-packages (from tensorflow) (2.7.0)\n",
      "Requirement already satisfied: numpy>=1.14.5 in c:\\users\\jenish khunt\\anaconda3\\lib\\site-packages (from tensorflow) (1.20.3)\n",
      "Requirement already satisfied: h5py>=2.9.0 in c:\\users\\jenish khunt\\anaconda3\\lib\\site-packages (from tensorflow) (3.2.1)\n",
      "Requirement already satisfied: protobuf>=3.9.2 in c:\\users\\jenish khunt\\anaconda3\\lib\\site-packages (from tensorflow) (3.19.3)\n",
      "Requirement already satisfied: astunparse>=1.6.0 in c:\\users\\jenish khunt\\anaconda3\\lib\\site-packages (from tensorflow) (1.6.3)\n",
      "Requirement already satisfied: google-pasta>=0.1.1 in c:\\users\\jenish khunt\\anaconda3\\lib\\site-packages (from tensorflow) (0.2.0)\n",
      "Requirement already satisfied: wrapt>=1.11.0 in c:\\users\\jenish khunt\\anaconda3\\lib\\site-packages (from tensorflow) (1.12.1)\n",
      "Requirement already satisfied: grpcio<2.0,>=1.24.3 in c:\\users\\jenish khunt\\anaconda3\\lib\\site-packages (from tensorflow) (1.43.0)\n",
      "Requirement already satisfied: absl-py>=0.4.0 in c:\\users\\jenish khunt\\anaconda3\\lib\\site-packages (from tensorflow) (1.0.0)\n",
      "Requirement already satisfied: six>=1.12.0 in c:\\users\\jenish khunt\\anaconda3\\lib\\site-packages (from tensorflow) (1.16.0)\n",
      "Requirement already satisfied: wheel<1.0,>=0.32.0 in c:\\users\\jenish khunt\\anaconda3\\lib\\site-packages (from tensorflow) (0.37.0)\n",
      "Requirement already satisfied: tensorflow-io-gcs-filesystem>=0.21.0 in c:\\users\\jenish khunt\\anaconda3\\lib\\site-packages (from tensorflow) (0.23.1)\n",
      "Requirement already satisfied: keras<2.8,>=2.7.0rc0 in c:\\users\\jenish khunt\\anaconda3\\lib\\site-packages (from tensorflow) (2.7.0)\n",
      "Requirement already satisfied: keras-preprocessing>=1.1.1 in c:\\users\\jenish khunt\\anaconda3\\lib\\site-packages (from tensorflow) (1.1.2)\n",
      "Requirement already satisfied: termcolor>=1.1.0 in c:\\users\\jenish khunt\\anaconda3\\lib\\site-packages (from tensorflow) (1.1.0)\n",
      "Requirement already satisfied: tensorboard~=2.6 in c:\\users\\jenish khunt\\anaconda3\\lib\\site-packages (from tensorflow) (2.8.0)\n",
      "Requirement already satisfied: typing-extensions>=3.6.6 in c:\\users\\jenish khunt\\anaconda3\\lib\\site-packages (from tensorflow) (3.10.0.2)\n",
      "Requirement already satisfied: flatbuffers<3.0,>=1.12 in c:\\users\\jenish khunt\\anaconda3\\lib\\site-packages (from tensorflow) (2.0)\n",
      "Requirement already satisfied: google-auth<3,>=1.6.3 in c:\\users\\jenish khunt\\anaconda3\\lib\\site-packages (from tensorboard~=2.6->tensorflow) (2.3.3)\n",
      "Requirement already satisfied: requests<3,>=2.21.0 in c:\\users\\jenish khunt\\anaconda3\\lib\\site-packages (from tensorboard~=2.6->tensorflow) (2.26.0)\n",
      "Requirement already satisfied: werkzeug>=0.11.15 in c:\\users\\jenish khunt\\anaconda3\\lib\\site-packages (from tensorboard~=2.6->tensorflow) (2.0.2)\n",
      "Requirement already satisfied: google-auth-oauthlib<0.5,>=0.4.1 in c:\\users\\jenish khunt\\anaconda3\\lib\\site-packages (from tensorboard~=2.6->tensorflow) (0.4.6)\n",
      "Requirement already satisfied: setuptools>=41.0.0 in c:\\users\\jenish khunt\\anaconda3\\lib\\site-packages (from tensorboard~=2.6->tensorflow) (58.0.4)\n",
      "Requirement already satisfied: tensorboard-data-server<0.7.0,>=0.6.0 in c:\\users\\jenish khunt\\anaconda3\\lib\\site-packages (from tensorboard~=2.6->tensorflow) (0.6.1)\n",
      "Requirement already satisfied: tensorboard-plugin-wit>=1.6.0 in c:\\users\\jenish khunt\\anaconda3\\lib\\site-packages (from tensorboard~=2.6->tensorflow) (1.8.1)\n",
      "Requirement already satisfied: markdown>=2.6.8 in c:\\users\\jenish khunt\\anaconda3\\lib\\site-packages (from tensorboard~=2.6->tensorflow) (3.3.6)\n",
      "Requirement already satisfied: cachetools<5.0,>=2.0.0 in c:\\users\\jenish khunt\\anaconda3\\lib\\site-packages (from google-auth<3,>=1.6.3->tensorboard~=2.6->tensorflow) (4.2.4)\n",
      "Requirement already satisfied: rsa<5,>=3.1.4 in c:\\users\\jenish khunt\\anaconda3\\lib\\site-packages (from google-auth<3,>=1.6.3->tensorboard~=2.6->tensorflow) (4.8)\n",
      "Requirement already satisfied: pyasn1-modules>=0.2.1 in c:\\users\\jenish khunt\\anaconda3\\lib\\site-packages (from google-auth<3,>=1.6.3->tensorboard~=2.6->tensorflow) (0.2.8)\n",
      "Requirement already satisfied: requests-oauthlib>=0.7.0 in c:\\users\\jenish khunt\\anaconda3\\lib\\site-packages (from google-auth-oauthlib<0.5,>=0.4.1->tensorboard~=2.6->tensorflow) (1.3.0)\n",
      "Requirement already satisfied: importlib-metadata>=4.4 in c:\\users\\jenish khunt\\anaconda3\\lib\\site-packages (from markdown>=2.6.8->tensorboard~=2.6->tensorflow) (4.8.1)\n",
      "Requirement already satisfied: zipp>=0.5 in c:\\users\\jenish khunt\\anaconda3\\lib\\site-packages (from importlib-metadata>=4.4->markdown>=2.6.8->tensorboard~=2.6->tensorflow) (3.6.0)\n",
      "Requirement already satisfied: pyasn1<0.5.0,>=0.4.6 in c:\\users\\jenish khunt\\anaconda3\\lib\\site-packages (from pyasn1-modules>=0.2.1->google-auth<3,>=1.6.3->tensorboard~=2.6->tensorflow) (0.4.8)\n",
      "Requirement already satisfied: urllib3<1.27,>=1.21.1 in c:\\users\\jenish khunt\\anaconda3\\lib\\site-packages (from requests<3,>=2.21.0->tensorboard~=2.6->tensorflow) (1.26.7)\n",
      "Requirement already satisfied: idna<4,>=2.5 in c:\\users\\jenish khunt\\anaconda3\\lib\\site-packages (from requests<3,>=2.21.0->tensorboard~=2.6->tensorflow) (3.2)\n",
      "Requirement already satisfied: certifi>=2017.4.17 in c:\\users\\jenish khunt\\anaconda3\\lib\\site-packages (from requests<3,>=2.21.0->tensorboard~=2.6->tensorflow) (2021.10.8)\n",
      "Requirement already satisfied: charset-normalizer~=2.0.0 in c:\\users\\jenish khunt\\anaconda3\\lib\\site-packages (from requests<3,>=2.21.0->tensorboard~=2.6->tensorflow) (2.0.4)\n",
      "Requirement already satisfied: oauthlib>=3.0.0 in c:\\users\\jenish khunt\\anaconda3\\lib\\site-packages (from requests-oauthlib>=0.7.0->google-auth-oauthlib<0.5,>=0.4.1->tensorboard~=2.6->tensorflow) (3.1.1)\n"
     ]
    }
   ],
   "source": [
    "!pip install tensorflow"
   ]
  },
  {
   "cell_type": "code",
   "execution_count": 7,
   "id": "Tu50A-mJ2PrL",
   "metadata": {
    "executionInfo": {
     "elapsed": 3272,
     "status": "ok",
     "timestamp": 1642677032049,
     "user": {
      "displayName": "ANSHUMAN RAINA 19BAI10151",
      "photoUrl": "https://lh3.googleusercontent.com/a-/AOh14GgiGg7Er9kXU2F9L64XvYv5Bv5Oe_Hb0IgP84m4=s64",
      "userId": "02069950647084314499"
     },
     "user_tz": -330
    },
    "id": "Tu50A-mJ2PrL"
   },
   "outputs": [],
   "source": [
    "from keras.preprocessing.image import ImageDataGenerator"
   ]
  },
  {
   "cell_type": "markdown",
   "id": "PsfFl-if2TOy",
   "metadata": {
    "id": "PsfFl-if2TOy"
   },
   "source": [
    "Configure Image datagenerator class"
   ]
  },
  {
   "cell_type": "code",
   "execution_count": 8,
   "id": "kxgV5UjG2dtC",
   "metadata": {
    "executionInfo": {
     "elapsed": 399,
     "status": "ok",
     "timestamp": 1642677034091,
     "user": {
      "displayName": "ANSHUMAN RAINA 19BAI10151",
      "photoUrl": "https://lh3.googleusercontent.com/a-/AOh14GgiGg7Er9kXU2F9L64XvYv5Bv5Oe_Hb0IgP84m4=s64",
      "userId": "02069950647084314499"
     },
     "user_tz": -330
    },
    "id": "kxgV5UjG2dtC"
   },
   "outputs": [],
   "source": [
    "#setting parameter for image data agumentationto the training data\n",
    "train_datagen=ImageDataGenerator(rescale=1./225,shear_range=0.2,zoom_range=0.2,horizontal_flip=True)\n",
    "#image data agumenatation to test dataset\n",
    "test_datagen=ImageDataGenerator(rescale=1./225)"
   ]
  },
  {
   "cell_type": "markdown",
   "id": "TB3nRvlf20DG",
   "metadata": {
    "id": "TB3nRvlf20DG"
   },
   "source": [
    "Applying ImageDataGenerator Functionality to train and test Dataset"
   ]
  },
  {
   "cell_type": "code",
   "execution_count": 10,
   "id": "e156bd18",
   "metadata": {
    "colab": {
     "base_uri": "https://localhost:8080/"
    },
    "executionInfo": {
     "elapsed": 45836,
     "status": "ok",
     "timestamp": 1642677082017,
     "user": {
      "displayName": "ANSHUMAN RAINA 19BAI10151",
      "photoUrl": "https://lh3.googleusercontent.com/a-/AOh14GgiGg7Er9kXU2F9L64XvYv5Bv5Oe_Hb0IgP84m4=s64",
      "userId": "02069950647084314499"
     },
     "user_tz": -330
    },
    "id": "e156bd18",
    "outputId": "a09a10cf-0455-408f-83a6-b96c7239f9fb"
   },
   "outputs": [
    {
     "name": "stdout",
     "output_type": "stream",
     "text": [
      "Found 15341 images belonging to 6 classes.\n",
      "Found 6825 images belonging to 6 classes.\n"
     ]
    }
   ],
   "source": [
    "#performing data agumentation to train the dataset\n",
    "x_train=train_datagen.flow_from_directory(directory=r'C:\\Users\\Jenish khunt\\Downloads\\smartInternz\\data\\train',target_size=(64,64),batch_size=32,class_mode='categorical')\n",
    "#performing agumentation to test the dataset\n",
    "x_test=test_datagen.flow_from_directory(directory=r'C:\\Users\\Jenish khunt\\Downloads\\smartInternz\\data\\test',target_size=(64,64),batch_size=32,class_mode='categorical')\n"
   ]
  },
  {
   "cell_type": "markdown",
   "id": "LnpBXjMy3D46",
   "metadata": {
    "id": "LnpBXjMy3D46"
   },
   "source": [
    "# Model Building"
   ]
  },
  {
   "cell_type": "markdown",
   "id": "ysK7BFgN3RD0",
   "metadata": {
    "id": "ysK7BFgN3RD0"
   },
   "source": [
    "Importing Libraries"
   ]
  },
  {
   "cell_type": "code",
   "execution_count": 11,
   "id": "ols5iJTh1q-P",
   "metadata": {
    "executionInfo": {
     "elapsed": 417,
     "status": "ok",
     "timestamp": 1642677084896,
     "user": {
      "displayName": "ANSHUMAN RAINA 19BAI10151",
      "photoUrl": "https://lh3.googleusercontent.com/a-/AOh14GgiGg7Er9kXU2F9L64XvYv5Bv5Oe_Hb0IgP84m4=s64",
      "userId": "02069950647084314499"
     },
     "user_tz": -330
    },
    "id": "ols5iJTh1q-P"
   },
   "outputs": [],
   "source": [
    "\n",
    "import numpy as np\n",
    "import tensorflow\n",
    "from tensorflow.keras.models import Sequential\n",
    "from tensorflow.keras import layers\n",
    "\n",
    "from tensorflow.keras.layers import Dense,Flatten\n",
    "\n",
    "from tensorflow.keras.layers import Conv2D,MaxPooling2D\n",
    "import keras"
   ]
  },
  {
   "cell_type": "code",
   "execution_count": 12,
   "id": "D47DOHPM8-uv",
   "metadata": {
    "executionInfo": {
     "elapsed": 414,
     "status": "ok",
     "timestamp": 1642677088118,
     "user": {
      "displayName": "ANSHUMAN RAINA 19BAI10151",
      "photoUrl": "https://lh3.googleusercontent.com/a-/AOh14GgiGg7Er9kXU2F9L64XvYv5Bv5Oe_Hb0IgP84m4=s64",
      "userId": "02069950647084314499"
     },
     "user_tz": -330
    },
    "id": "D47DOHPM8-uv"
   },
   "outputs": [],
   "source": [
    "model= keras.Sequential()"
   ]
  },
  {
   "cell_type": "markdown",
   "id": "uwK84q-X3vHc",
   "metadata": {
    "id": "uwK84q-X3vHc"
   },
   "source": [
    "Adding CNN Layers"
   ]
  },
  {
   "cell_type": "code",
   "execution_count": 13,
   "id": "9RljNEo531dG",
   "metadata": {
    "executionInfo": {
     "elapsed": 486,
     "status": "ok",
     "timestamp": 1642677090849,
     "user": {
      "displayName": "ANSHUMAN RAINA 19BAI10151",
      "photoUrl": "https://lh3.googleusercontent.com/a-/AOh14GgiGg7Er9kXU2F9L64XvYv5Bv5Oe_Hb0IgP84m4=s64",
      "userId": "02069950647084314499"
     },
     "user_tz": -330
    },
    "id": "9RljNEo531dG"
   },
   "outputs": [],
   "source": [
    "#adding model layer\n",
    "model.add(Conv2D(32,(3,3),input_shape=(64,64,3),activation='relu'))\n",
    "model.add(MaxPooling2D(pool_size=(2,2)))\n",
    "model.add(Conv2D(32,(3,3),activation='relu'))\n",
    "model.add(MaxPooling2D(pool_size=(2,2)))\n",
    "model.add(Flatten())"
   ]
  },
  {
   "cell_type": "markdown",
   "id": "8DbbNiA5397o",
   "metadata": {
    "id": "8DbbNiA5397o"
   },
   "source": [
    "Adding Dense Layers"
   ]
  },
  {
   "cell_type": "code",
   "execution_count": 14,
   "id": "1kYr2efF4AwR",
   "metadata": {
    "colab": {
     "base_uri": "https://localhost:8080/"
    },
    "executionInfo": {
     "elapsed": 654,
     "status": "ok",
     "timestamp": 1642677094849,
     "user": {
      "displayName": "ANSHUMAN RAINA 19BAI10151",
      "photoUrl": "https://lh3.googleusercontent.com/a-/AOh14GgiGg7Er9kXU2F9L64XvYv5Bv5Oe_Hb0IgP84m4=s64",
      "userId": "02069950647084314499"
     },
     "user_tz": -330
    },
    "id": "1kYr2efF4AwR",
    "outputId": "ce7bef72-2a14-4a16-fe2e-ca2719d9c7c2"
   },
   "outputs": [
    {
     "name": "stdout",
     "output_type": "stream",
     "text": [
      "Model: \"sequential\"\n",
      "_________________________________________________________________\n",
      " Layer (type)                Output Shape              Param #   \n",
      "=================================================================\n",
      " conv2d (Conv2D)             (None, 62, 62, 32)        896       \n",
      "                                                                 \n",
      " max_pooling2d (MaxPooling2D  (None, 31, 31, 32)       0         \n",
      " )                                                               \n",
      "                                                                 \n",
      " conv2d_1 (Conv2D)           (None, 29, 29, 32)        9248      \n",
      "                                                                 \n",
      " max_pooling2d_1 (MaxPooling  (None, 14, 14, 32)       0         \n",
      " 2D)                                                             \n",
      "                                                                 \n",
      " flatten (Flatten)           (None, 6272)              0         \n",
      "                                                                 \n",
      " dense (Dense)               (None, 32)                200736    \n",
      "                                                                 \n",
      " dense_1 (Dense)             (None, 6)                 198       \n",
      "                                                                 \n",
      "=================================================================\n",
      "Total params: 211,078\n",
      "Trainable params: 211,078\n",
      "Non-trainable params: 0\n",
      "_________________________________________________________________\n"
     ]
    }
   ],
   "source": [
    "model.add(Dense(32))\n",
    "model.add(Dense(6,activation='softmax'))\n",
    "\n",
    "model.summary()"
   ]
  },
  {
   "cell_type": "markdown",
   "id": "m3mTMNe1_2LZ",
   "metadata": {
    "id": "m3mTMNe1_2LZ"
   },
   "source": [
    "Configuring the learning process"
   ]
  },
  {
   "cell_type": "code",
   "execution_count": 16,
   "id": "cU49pXBJ_-mw",
   "metadata": {
    "executionInfo": {
     "elapsed": 412,
     "status": "ok",
     "timestamp": 1642677098513,
     "user": {
      "displayName": "ANSHUMAN RAINA 19BAI10151",
      "photoUrl": "https://lh3.googleusercontent.com/a-/AOh14GgiGg7Er9kXU2F9L64XvYv5Bv5Oe_Hb0IgP84m4=s64",
      "userId": "02069950647084314499"
     },
     "user_tz": -330
    },
    "id": "cU49pXBJ_-mw"
   },
   "outputs": [],
   "source": [
    "model.compile(optimizer='adam',loss='categorical_crossentropy',metrics=['accuracy'])"
   ]
  },
  {
   "cell_type": "markdown",
   "id": "ODFz0IiUACTj",
   "metadata": {
    "id": "ODFz0IiUACTj"
   },
   "source": [
    "Train the Model"
   ]
  },
  {
   "cell_type": "code",
   "execution_count": 17,
   "id": "b-SfMl_ZAHPM",
   "metadata": {
    "colab": {
     "base_uri": "https://localhost:8080/"
    },
    "id": "b-SfMl_ZAHPM",
    "outputId": "d2cc46b9-a584-44bd-df54-9702a246a0c4"
   },
   "outputs": [
    {
     "name": "stderr",
     "output_type": "stream",
     "text": [
      "C:\\Users\\JENISH~1\\AppData\\Local\\Temp/ipykernel_18096/53529210.py:1: UserWarning: `Model.fit_generator` is deprecated and will be removed in a future version. Please use `Model.fit`, which supports generators.\n",
      "  model.fit_generator(generator=x_train,steps_per_epoch = len(x_train), epochs=10, validation_data=x_test,validation_steps = len(x_test))\n"
     ]
    },
    {
     "name": "stdout",
     "output_type": "stream",
     "text": [
      "Epoch 1/10\n",
      "480/480 [==============================] - 63s 131ms/step - loss: 0.8422 - accuracy: 0.7124 - val_loss: 0.6140 - val_accuracy: 0.7851\n",
      "Epoch 2/10\n",
      "480/480 [==============================] - 69s 143ms/step - loss: 0.3153 - accuracy: 0.9043 - val_loss: 0.4939 - val_accuracy: 0.8684\n",
      "Epoch 3/10\n",
      "480/480 [==============================] - 69s 143ms/step - loss: 0.2449 - accuracy: 0.9288 - val_loss: 0.3811 - val_accuracy: 0.9036\n",
      "Epoch 4/10\n",
      "480/480 [==============================] - 68s 142ms/step - loss: 0.2155 - accuracy: 0.9364 - val_loss: 0.3512 - val_accuracy: 0.8976\n",
      "Epoch 5/10\n",
      "480/480 [==============================] - 70s 146ms/step - loss: 0.1970 - accuracy: 0.9430 - val_loss: 0.3482 - val_accuracy: 0.8848\n",
      "Epoch 6/10\n",
      "480/480 [==============================] - 80s 167ms/step - loss: 0.1758 - accuracy: 0.9482 - val_loss: 0.3395 - val_accuracy: 0.8856\n",
      "Epoch 7/10\n",
      "480/480 [==============================] - 72s 149ms/step - loss: 0.1613 - accuracy: 0.9505 - val_loss: 0.3398 - val_accuracy: 0.8901\n",
      "Epoch 8/10\n",
      "480/480 [==============================] - 59s 122ms/step - loss: 0.1432 - accuracy: 0.9570 - val_loss: 0.3674 - val_accuracy: 0.8889\n",
      "Epoch 9/10\n",
      "480/480 [==============================] - 58s 121ms/step - loss: 0.1394 - accuracy: 0.9581 - val_loss: 0.4799 - val_accuracy: 0.8796\n",
      "Epoch 10/10\n",
      "480/480 [==============================] - 58s 121ms/step - loss: 0.1248 - accuracy: 0.9612 - val_loss: 0.3480 - val_accuracy: 0.9216\n"
     ]
    },
    {
     "data": {
      "text/plain": [
       "<keras.callbacks.History at 0x23172e734f0>"
      ]
     },
     "execution_count": 17,
     "metadata": {},
     "output_type": "execute_result"
    }
   ],
   "source": [
    "model.fit_generator(generator=x_train,steps_per_epoch = len(x_train), epochs=10, validation_data=x_test,validation_steps = len(x_test))"
   ]
  },
  {
   "cell_type": "markdown",
   "id": "ip8Eu06pCQac",
   "metadata": {
    "id": "ip8Eu06pCQac"
   },
   "source": [
    "Saving the model"
   ]
  },
  {
   "cell_type": "code",
   "execution_count": 18,
   "id": "cMXHWjLQCYsr",
   "metadata": {
    "id": "cMXHWjLQCYsr"
   },
   "outputs": [],
   "source": [
    "model.save('ECG.h5')"
   ]
  },
  {
   "cell_type": "markdown",
   "id": "ZmCTw7e5CfhN",
   "metadata": {
    "id": "ZmCTw7e5CfhN"
   },
   "source": [
    "Test the Model"
   ]
  },
  {
   "cell_type": "code",
   "execution_count": 19,
   "id": "7b69ff7b",
   "metadata": {
    "colab": {
     "base_uri": "https://localhost:8080/",
     "height": 236
    },
    "executionInfo": {
     "elapsed": 2499,
     "status": "error",
     "timestamp": 1642676990148,
     "user": {
      "displayName": "ANSHUMAN RAINA 19BAI10151",
      "photoUrl": "https://lh3.googleusercontent.com/a-/AOh14GgiGg7Er9kXU2F9L64XvYv5Bv5Oe_Hb0IgP84m4=s64",
      "userId": "02069950647084314499"
     },
     "user_tz": -330
    },
    "id": "7b69ff7b",
    "outputId": "b0886d5b-3a16-47bd-c1db-0d6bfd8286e3"
   },
   "outputs": [
    {
     "data": {
      "text/plain": [
       "2"
      ]
     },
     "execution_count": 19,
     "metadata": {},
     "output_type": "execute_result"
    }
   ],
   "source": [
    "from tensorflow.keras.models import load_model\n",
    "from keras.preprocessing import image\n",
    "model=load_model('C:\\\\Users\\\\Jenish khunt\\\\Downloads\\\\smartInternz\\\\training\\\\ECG.h5')\n",
    "img=image.load_img(\"C:\\\\Users\\\\Jenish khunt\\\\Downloads\\\\smartInternz\\\\Flask\\\\uploads\\\\PAC.png\",target_size=(64,64))\n",
    "x=image.img_to_array(img)\n",
    "x=np.expand_dims(x,axis=0)\n",
    "pred = model.predict(x)\n",
    "y_pred=np.argmax(pred)\n",
    "y_pred\n"
   ]
  },
  {
   "cell_type": "code",
   "execution_count": 20,
   "id": "4OEO0jcfqJiz",
   "metadata": {
    "colab": {
     "base_uri": "https://localhost:8080/",
     "height": 218
    },
    "executionInfo": {
     "elapsed": 401,
     "status": "error",
     "timestamp": 1642604299195,
     "user": {
      "displayName": "ANSHUMAN RAINA 19BAI10151",
      "photoUrl": "https://lh3.googleusercontent.com/a-/AOh14GgiGg7Er9kXU2F9L64XvYv5Bv5Oe_Hb0IgP84m4=s64",
      "userId": "02069950647084314499"
     },
     "user_tz": -330
    },
    "id": "4OEO0jcfqJiz",
    "outputId": "903a78cd-c9f3-41f8-a18a-0849e529728f"
   },
   "outputs": [
    {
     "data": {
      "text/plain": [
       "'Premature Atrial Contraction'"
      ]
     },
     "execution_count": 20,
     "metadata": {},
     "output_type": "execute_result"
    }
   ],
   "source": [
    "index=['left Bundle Branch block','Normal','Premature Atrial Contraction','Premature Ventricular Contraction','Right Bundle Branch Block','Ventricular Fibrillation']\n",
    "result = str(index[y_pred])\n",
    "result "
   ]
  },
  {
   "cell_type": "code",
   "execution_count": null,
   "id": "1b2c13c2",
   "metadata": {},
   "outputs": [],
   "source": []
  }
 ],
 "metadata": {
  "colab": {
   "collapsed_sections": [],
   "name": "ECG arrhythmia classification.ipynb",
   "provenance": []
  },
  "kernelspec": {
   "display_name": "Python 3 (ipykernel)",
   "language": "python",
   "name": "python3"
  },
  "language_info": {
   "codemirror_mode": {
    "name": "ipython",
    "version": 3
   },
   "file_extension": ".py",
   "mimetype": "text/x-python",
   "name": "python",
   "nbconvert_exporter": "python",
   "pygments_lexer": "ipython3",
   "version": "3.9.7"
  }
 },
 "nbformat": 4,
 "nbformat_minor": 5
}
